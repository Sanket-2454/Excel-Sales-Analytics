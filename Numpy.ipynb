{
  "nbformat": 4,
  "nbformat_minor": 0,
  "metadata": {
    "colab": {
      "provenance": [],
      "authorship_tag": "ABX9TyMTtYOBeKVTuwpS6occ6KWa",
      "include_colab_link": true
    },
    "kernelspec": {
      "name": "python3",
      "display_name": "Python 3"
    },
    "language_info": {
      "name": "python"
    }
  },
  "cells": [
    {
      "cell_type": "markdown",
      "metadata": {
        "id": "view-in-github",
        "colab_type": "text"
      },
      "source": [
        "<a href=\"https://colab.research.google.com/github/Sanket-2454/Excel-Sales-Analytics/blob/main/Numpy.ipynb\" target=\"_parent\"><img src=\"https://colab.research.google.com/assets/colab-badge.svg\" alt=\"Open In Colab\"/></a>"
      ]
    },
    {
      "cell_type": "code",
      "execution_count": 4,
      "metadata": {
        "colab": {
          "base_uri": "https://localhost:8080/"
        },
        "id": "bwk9Z9eWq84e",
        "outputId": "d5e3e7e2-dcd5-4be4-c842-638b53555a7d"
      },
      "outputs": [
        {
          "output_type": "stream",
          "name": "stdout",
          "text": [
            "<class 'numpy.ndarray'>\n"
          ]
        }
      ],
      "source": [
        "#numpy array function\n",
        "\n",
        "import numpy as np\n",
        "a = np.array([1,2,3]) #----> one d array is also called as vector\n",
        "print(type(a))"
      ]
    },
    {
      "cell_type": "code",
      "source": [
        "# 2-d array is also called as the matrix\n",
        "b = np.array([[1,2,3],[4,5,6]])\n",
        "print(b)"
      ],
      "metadata": {
        "colab": {
          "base_uri": "https://localhost:8080/"
        },
        "id": "moMZIVvirVGO",
        "outputId": "e73efada-a109-450f-903d-eef3951c7ab7"
      },
      "execution_count": 6,
      "outputs": [
        {
          "output_type": "stream",
          "name": "stdout",
          "text": [
            "[[1 2 3]\n",
            " [4 5 6]]\n"
          ]
        }
      ]
    },
    {
      "cell_type": "code",
      "source": [
        "# 3d array is also called as the tensor\n",
        "c = np.array([[1,2,3],[4,5,6],[8,7,9]])\n",
        "print(c)"
      ],
      "metadata": {
        "colab": {
          "base_uri": "https://localhost:8080/"
        },
        "id": "KLJT6YklrnO4",
        "outputId": "d1471c55-625d-4fc3-c552-8dbb6f725d6e"
      },
      "execution_count": 9,
      "outputs": [
        {
          "output_type": "stream",
          "name": "stdout",
          "text": [
            "[[1 2 3]\n",
            " [4 5 6]\n",
            " [8 7 9]]\n"
          ]
        }
      ]
    },
    {
      "cell_type": "code",
      "source": [
        "# here we do any datatype array like list, tuple,set,dict,str,bool,complex\n",
        "d = np.array([1,2,3],dtype = complex)\n",
        "print(d)\n"
      ],
      "metadata": {
        "colab": {
          "base_uri": "https://localhost:8080/"
        },
        "id": "Rn6XDMd10F2U",
        "outputId": "cd4116c0-5f7d-403f-ad7b-84c0c3bf778a"
      },
      "execution_count": 11,
      "outputs": [
        {
          "output_type": "stream",
          "name": "stdout",
          "text": [
            "[1.+0.j 2.+0.j 3.+0.j]\n"
          ]
        }
      ]
    },
    {
      "cell_type": "code",
      "source": [
        "# float numpy array\n",
        "d = np.array([1,2,3],dtype = float)\n",
        "print(d)"
      ],
      "metadata": {
        "colab": {
          "base_uri": "https://localhost:8080/"
        },
        "id": "jmYYIXA10xaz",
        "outputId": "61cb682b-c1ad-49f1-ea0a-7a3266c46e14"
      },
      "execution_count": 12,
      "outputs": [
        {
          "output_type": "stream",
          "name": "stdout",
          "text": [
            "[1. 2. 3.]\n"
          ]
        }
      ]
    },
    {
      "cell_type": "code",
      "source": [
        "# another way to create array\n",
        "np.arange(1,11,2)# ----> (start,stop,end)\n"
      ],
      "metadata": {
        "colab": {
          "base_uri": "https://localhost:8080/"
        },
        "id": "HL79Re3i1QgY",
        "outputId": "15bdddc8-727b-4fe1-8d25-3fb35705169a"
      },
      "execution_count": 17,
      "outputs": [
        {
          "output_type": "execute_result",
          "data": {
            "text/plain": [
              "array([1, 3, 5, 7, 9])"
            ]
          },
          "metadata": {},
          "execution_count": 17
        }
      ]
    },
    {
      "cell_type": "code",
      "source": [
        "# reshape function ---> convert given numpy array to another shape ----> reshape items product is always is between the arane\n",
        "np.arange(1,11).reshape(2,5)\n",
        "# matrices"
      ],
      "metadata": {
        "colab": {
          "base_uri": "https://localhost:8080/"
        },
        "id": "bxsVdwqX1u8d",
        "outputId": "4effd4a5-5ef4-475f-b8e2-7c52a925d18f"
      },
      "execution_count": 18,
      "outputs": [
        {
          "output_type": "execute_result",
          "data": {
            "text/plain": [
              "array([[ 1,  2,  3,  4,  5],\n",
              "       [ 6,  7,  8,  9, 10]])"
            ]
          },
          "metadata": {},
          "execution_count": 18
        }
      ]
    },
    {
      "cell_type": "code",
      "source": [
        "np.arange(1,13).reshape(2,6)"
      ],
      "metadata": {
        "colab": {
          "base_uri": "https://localhost:8080/"
        },
        "id": "6XPGRs0y2Dxq",
        "outputId": "e8ee4121-ea33-4136-e996-8839ce622537"
      },
      "execution_count": 20,
      "outputs": [
        {
          "output_type": "execute_result",
          "data": {
            "text/plain": [
              "array([[ 1,  2,  3,  4,  5,  6],\n",
              "       [ 7,  8,  9, 10, 11, 12]])"
            ]
          },
          "metadata": {},
          "execution_count": 20
        }
      ]
    },
    {
      "cell_type": "markdown",
      "source": [
        "ways to three intalize the array"
      ],
      "metadata": {
        "id": "GmO5ZCN04MCs"
      }
    },
    {
      "cell_type": "code",
      "source": [
        "# np.ones and np.zeros ---->\n",
        "\n",
        "np.ones((3,4)) # row, column intalize the array with one value we pass values in the tuple format\n",
        "\n",
        "np.zeros((5,4))  # row, column intalize the array with zeros value we pass values in the tuple format"
      ],
      "metadata": {
        "colab": {
          "base_uri": "https://localhost:8080/"
        },
        "id": "d9PFVfkC2Twx",
        "outputId": "57e55e98-4d8e-4c7d-e045-770732ddf791"
      },
      "execution_count": 23,
      "outputs": [
        {
          "output_type": "execute_result",
          "data": {
            "text/plain": [
              "array([[0., 0., 0., 0.],\n",
              "       [0., 0., 0., 0.],\n",
              "       [0., 0., 0., 0.],\n",
              "       [0., 0., 0., 0.],\n",
              "       [0., 0., 0., 0.]])"
            ]
          },
          "metadata": {},
          "execution_count": 23
        }
      ]
    },
    {
      "cell_type": "code",
      "source": [
        "# np.random\n",
        "np.random.random((3,4))"
      ],
      "metadata": {
        "colab": {
          "base_uri": "https://localhost:8080/"
        },
        "id": "GHKD33yO3xn8",
        "outputId": "52019e18-ea49-47e0-e3b8-12afdfd8ff1d"
      },
      "execution_count": 25,
      "outputs": [
        {
          "output_type": "execute_result",
          "data": {
            "text/plain": [
              "array([[0.46369729, 0.7715942 , 0.19226151, 0.02371358],\n",
              "       [0.66860705, 0.0278341 , 0.0758775 , 0.31566888],\n",
              "       [0.55747484, 0.06441451, 0.89867058, 0.29025084]])"
            ]
          },
          "metadata": {},
          "execution_count": 25
        }
      ]
    },
    {
      "cell_type": "code",
      "source": [
        "# np.linspace ----> linear space create equal distance point\n",
        "np.linspace(-10,10,10,dtype=int) # ----> (start,end,and no of the element)\n"
      ],
      "metadata": {
        "colab": {
          "base_uri": "https://localhost:8080/"
        },
        "id": "MUXVhgm86T2d",
        "outputId": "70848a55-f0db-45bb-a877-f990a4831af2"
      },
      "execution_count": 28,
      "outputs": [
        {
          "output_type": "execute_result",
          "data": {
            "text/plain": [
              "array([-10,  -8,  -6,  -4,  -2,   1,   3,   5,   7,  10])"
            ]
          },
          "metadata": {},
          "execution_count": 28
        }
      ]
    },
    {
      "cell_type": "code",
      "source": [
        "#np.identity # digonal matrix is one other are 0\n",
        "np.identity(3)"
      ],
      "metadata": {
        "colab": {
          "base_uri": "https://localhost:8080/"
        },
        "id": "hz0VxGGa61aL",
        "outputId": "ab40497f-249d-428b-d381-8ea0fd025670"
      },
      "execution_count": 27,
      "outputs": [
        {
          "output_type": "execute_result",
          "data": {
            "text/plain": [
              "array([[1., 0., 0.],\n",
              "       [0., 1., 0.],\n",
              "       [0., 0., 1.]])"
            ]
          },
          "metadata": {},
          "execution_count": 27
        }
      ]
    },
    {
      "cell_type": "markdown",
      "source": [
        "Array Attributes"
      ],
      "metadata": {
        "id": "fmE9QK2v80Nv"
      }
    },
    {
      "cell_type": "code",
      "source": [
        "# every numpy array has numpy class object\n",
        "# so numpy can accese the attribute of the numpy class\n"
      ],
      "metadata": {
        "id": "yDMeTNPt8BNn"
      },
      "execution_count": null,
      "outputs": []
    },
    {
      "cell_type": "code",
      "source": [
        "a1 = np.arange(10,dtype = np.int32)\n",
        "a2 = np.arange(12,dtype=float).reshape(3,4)\n",
        "a3= np.arange(8).reshape(2,2,2)\n",
        "print(a3)"
      ],
      "metadata": {
        "colab": {
          "base_uri": "https://localhost:8080/"
        },
        "id": "xoKbcrJx9ThX",
        "outputId": "fbbe7165-ef49-4480-adde-79b3ade37806"
      },
      "execution_count": 48,
      "outputs": [
        {
          "output_type": "stream",
          "name": "stdout",
          "text": [
            "[[[0 1]\n",
            "  [2 3]]\n",
            "\n",
            " [[4 5]\n",
            "  [6 7]]]\n"
          ]
        }
      ]
    },
    {
      "cell_type": "code",
      "source": [
        "# ndim attributes show the dimiension of an given array is it , one d , two d\n",
        "\n",
        "a1.ndim\n",
        "\n",
        "a2.ndim\n",
        "\n",
        "a3.ndim"
      ],
      "metadata": {
        "colab": {
          "base_uri": "https://localhost:8080/"
        },
        "id": "Q7kRejav-S6k",
        "outputId": "50b60ad6-8f24-4a8f-ecac-e708ccf8fba9"
      },
      "execution_count": 36,
      "outputs": [
        {
          "output_type": "execute_result",
          "data": {
            "text/plain": [
              "3"
            ]
          },
          "metadata": {},
          "execution_count": 36
        }
      ]
    },
    {
      "cell_type": "code",
      "source": [
        "# shape ----> give the shape of array mean how many rows and column ( row, column)\n",
        "a1.shape\n",
        "\n",
        "a2.shape\n",
        "\n",
        "print(a3.shape) # (2, 2, 2) first two tell (2how many two d array in 3d ,(2*2)tell us the how many (row,column) in it)"
      ],
      "metadata": {
        "colab": {
          "base_uri": "https://localhost:8080/"
        },
        "id": "g9j4eY7N-yIl",
        "outputId": "ec72bbf6-5881-4722-91e9-45823505ae5d"
      },
      "execution_count": 39,
      "outputs": [
        {
          "output_type": "stream",
          "name": "stdout",
          "text": [
            "(2, 2, 2)\n"
          ]
        }
      ]
    },
    {
      "cell_type": "code",
      "source": [
        "# size ---> how many no of items\n",
        "\n",
        "d = a2.size\n",
        "print(a2)\n",
        "print(d)"
      ],
      "metadata": {
        "colab": {
          "base_uri": "https://localhost:8080/"
        },
        "id": "3v_gwOEQ_Jnt",
        "outputId": "019fb5d6-a7a2-4a63-edd2-c35b09f60bef"
      },
      "execution_count": 43,
      "outputs": [
        {
          "output_type": "stream",
          "name": "stdout",
          "text": [
            "[[ 0.  1.  2.  3.]\n",
            " [ 4.  5.  6.  7.]\n",
            " [ 8.  9. 10. 11.]]\n",
            "12\n"
          ]
        }
      ]
    },
    {
      "cell_type": "code",
      "source": [
        "# itemsize ----> tell us one type how many bytes it take in the meomry\n",
        "a1.itemsize #  int it is two type int32 take 4byte, and int64 --is the default value for the int and the it take 8byte\n",
        "\n"
      ],
      "metadata": {
        "colab": {
          "base_uri": "https://localhost:8080/"
        },
        "id": "K-wuJWiq__Xl",
        "outputId": "abb432ad-33be-42de-d89e-de89aaccdbbf"
      },
      "execution_count": 50,
      "outputs": [
        {
          "output_type": "execute_result",
          "data": {
            "text/plain": [
              "4"
            ]
          },
          "metadata": {},
          "execution_count": 50
        }
      ]
    },
    {
      "cell_type": "code",
      "source": [
        "# dtype ---> tell use the datatype of the items\n",
        "\n",
        "a.dtype\n",
        "\n",
        "print(a2.dtype)\n",
        "\n",
        "a2.dtype"
      ],
      "metadata": {
        "colab": {
          "base_uri": "https://localhost:8080/"
        },
        "id": "tNScQST1DhON",
        "outputId": "e491925d-3cbc-4606-ac97-5f31a981f09c"
      },
      "execution_count": 56,
      "outputs": [
        {
          "output_type": "stream",
          "name": "stdout",
          "text": [
            "float64\n"
          ]
        },
        {
          "output_type": "execute_result",
          "data": {
            "text/plain": [
              "dtype('float64')"
            ]
          },
          "metadata": {},
          "execution_count": 56
        }
      ]
    },
    {
      "cell_type": "markdown",
      "source": [
        "Changing datatype"
      ],
      "metadata": {
        "id": "uKssXLWnGHJI"
      }
    },
    {
      "cell_type": "code",
      "source": [
        "a3.astype(np.int32)"
      ],
      "metadata": {
        "colab": {
          "base_uri": "https://localhost:8080/"
        },
        "id": "AdU670JeGE90",
        "outputId": "f86f33ef-4dd7-401a-d244-437188fee84e"
      },
      "execution_count": 61,
      "outputs": [
        {
          "output_type": "stream",
          "name": "stdout",
          "text": [
            "<class 'numpy.ndarray'>\n"
          ]
        }
      ]
    },
    {
      "cell_type": "code",
      "source": [
        "# array operations ----> with array we can perform many mathmatical operation\n",
        "\n",
        "a1 = np.arange(12).reshape(3,4)\n",
        "a2 = np.arange(12,24).reshape(3,4)\n",
        "a2"
      ],
      "metadata": {
        "colab": {
          "base_uri": "https://localhost:8080/"
        },
        "id": "D9TkXEoGHBHJ",
        "outputId": "091ff9b0-e837-4b6f-c823-378955c044d0"
      },
      "execution_count": 64,
      "outputs": [
        {
          "output_type": "execute_result",
          "data": {
            "text/plain": [
              "array([[12, 13, 14, 15],\n",
              "       [16, 17, 18, 19],\n",
              "       [20, 21, 22, 23]])"
            ]
          },
          "metadata": {},
          "execution_count": 64
        }
      ]
    },
    {
      "cell_type": "code",
      "source": [
        "# scaler opeator ---> operation withh single no\n",
        "\n",
        "# arthmatic operation all works (*,/,-,+,%,//)\n",
        "a1 //2 # here the a1 is matix and 2 is vector here we multiply the matrix and vector\n",
        "a1"
      ],
      "metadata": {
        "colab": {
          "base_uri": "https://localhost:8080/"
        },
        "id": "3UOttqugIP-X",
        "outputId": "63e69308-c3be-4235-b115-a0f4f875b26b"
      },
      "execution_count": 66,
      "outputs": [
        {
          "output_type": "execute_result",
          "data": {
            "text/plain": [
              "array([[ 0,  1,  2,  3],\n",
              "       [ 4,  5,  6,  7],\n",
              "       [ 8,  9, 10, 11]])"
            ]
          },
          "metadata": {},
          "execution_count": 66
        }
      ]
    },
    {
      "cell_type": "code",
      "source": [
        "# realtional operator all operation used (>,<,>=,<=,=,==)---> it return the boolean value if condtion true it return the true and if false it return false\n",
        "print(a2>18)\n"
      ],
      "metadata": {
        "colab": {
          "base_uri": "https://localhost:8080/"
        },
        "id": "uoX7Hs5NI3Ef",
        "outputId": "37c21bdf-2f96-40a9-f459-cad2af1027e5"
      },
      "execution_count": 69,
      "outputs": [
        {
          "output_type": "stream",
          "name": "stdout",
          "text": [
            "[[False False False False]\n",
            " [False False False  True]\n",
            " [ True  True  True  True]]\n"
          ]
        }
      ]
    },
    {
      "cell_type": "code",
      "source": [
        "# vector operation ---> used when we want to perform the opeartion on two numpy array shape should be same\n",
        "# arthmatic operator(*,/,-,+)\n",
        "a1 + a2"
      ],
      "metadata": {
        "colab": {
          "base_uri": "https://localhost:8080/"
        },
        "id": "8FT_eE-PJlh-",
        "outputId": "73e4ddcd-d24b-47f3-ab03-02f2d0505d49"
      },
      "execution_count": 70,
      "outputs": [
        {
          "output_type": "execute_result",
          "data": {
            "text/plain": [
              "array([[12, 14, 16, 18],\n",
              "       [20, 22, 24, 26],\n",
              "       [28, 30, 32, 34]])"
            ]
          },
          "metadata": {},
          "execution_count": 70
        }
      ]
    },
    {
      "cell_type": "markdown",
      "source": [
        "Array function - there are so many function in numpy"
      ],
      "metadata": {
        "id": "blFemXUKLYZ_"
      }
    },
    {
      "cell_type": "code",
      "source": [
        "a1 = np.random.random((3,3))\n",
        "a1 = np.round(a1*100)\n",
        "a1\n",
        "\n",
        "print(a2)"
      ],
      "metadata": {
        "colab": {
          "base_uri": "https://localhost:8080/"
        },
        "id": "3vgh2zAFK1b-",
        "outputId": "804a9d10-ad88-410f-dec5-7ea51caa8da4"
      },
      "execution_count": 82,
      "outputs": [
        {
          "output_type": "stream",
          "name": "stdout",
          "text": [
            "[[12 13 14 15]\n",
            " [16 17 18 19]\n",
            " [20 21 22 23]]\n"
          ]
        }
      ]
    },
    {
      "cell_type": "code",
      "source": [
        "# min/max/sum/prod\n",
        "np.min(a)"
      ],
      "metadata": {
        "colab": {
          "base_uri": "https://localhost:8080/"
        },
        "id": "sMO4zLM-MIue",
        "outputId": "6a8c0952-e515-42e0-8793-ae9d2b91be2c"
      },
      "execution_count": 74,
      "outputs": [
        {
          "output_type": "execute_result",
          "data": {
            "text/plain": [
              "1"
            ]
          },
          "metadata": {},
          "execution_count": 74
        }
      ]
    },
    {
      "cell_type": "code",
      "source": [
        "np.min(a2)"
      ],
      "metadata": {
        "colab": {
          "base_uri": "https://localhost:8080/"
        },
        "id": "3vPKtDguWyeC",
        "outputId": "cd55ae2b-a6ff-48c1-c57f-e4d8baacbb97"
      },
      "execution_count": 76,
      "outputs": [
        {
          "output_type": "execute_result",
          "data": {
            "text/plain": [
              "12"
            ]
          },
          "metadata": {},
          "execution_count": 76
        }
      ]
    },
    {
      "cell_type": "code",
      "source": [
        "np.sum(a2)"
      ],
      "metadata": {
        "colab": {
          "base_uri": "https://localhost:8080/"
        },
        "id": "HHMCmVNmW23G",
        "outputId": "e33e1b16-b557-494f-acea-106df56f4bc5"
      },
      "execution_count": 77,
      "outputs": [
        {
          "output_type": "execute_result",
          "data": {
            "text/plain": [
              "210"
            ]
          },
          "metadata": {},
          "execution_count": 77
        }
      ]
    },
    {
      "cell_type": "code",
      "source": [
        "np.prod(a)"
      ],
      "metadata": {
        "colab": {
          "base_uri": "https://localhost:8080/"
        },
        "id": "oEAR-21aW-6s",
        "outputId": "dfe0c185-b827-479a-bd3b-fe9e9d37810c"
      },
      "execution_count": 78,
      "outputs": [
        {
          "output_type": "execute_result",
          "data": {
            "text/plain": [
              "1"
            ]
          },
          "metadata": {},
          "execution_count": 78
        }
      ]
    },
    {
      "cell_type": "code",
      "source": [
        "# what if we need min from the row and column\n",
        "#0--> column #1---> row\n",
        "np.max(a1,axis = 1)# ----> (array,axis)"
      ],
      "metadata": {
        "colab": {
          "base_uri": "https://localhost:8080/"
        },
        "id": "vn2FKziEXFEz",
        "outputId": "d56ce137-0d0f-4ae3-8f6f-f39de2f26e75"
      },
      "execution_count": 79,
      "outputs": [
        {
          "output_type": "execute_result",
          "data": {
            "text/plain": [
              "array([26., 88., 93.])"
            ]
          },
          "metadata": {},
          "execution_count": 79
        }
      ]
    },
    {
      "cell_type": "code",
      "source": [
        "np.max(a1,axis=0)"
      ],
      "metadata": {
        "colab": {
          "base_uri": "https://localhost:8080/"
        },
        "id": "lEYFTo9GXonK",
        "outputId": "bcfafc9c-936c-4303-f1df-aa3050d76a8a"
      },
      "execution_count": 80,
      "outputs": [
        {
          "output_type": "execute_result",
          "data": {
            "text/plain": [
              "array([93., 40., 88.])"
            ]
          },
          "metadata": {},
          "execution_count": 80
        }
      ]
    },
    {
      "cell_type": "code",
      "source": [
        "# it is applicable for every function\n",
        "np.sum(a2,axis=0)"
      ],
      "metadata": {
        "colab": {
          "base_uri": "https://localhost:8080/"
        },
        "id": "sGXlKv2_XzL2",
        "outputId": "e7bdfc7b-9235-4b26-ca10-7fa57b8ffca3"
      },
      "execution_count": 81,
      "outputs": [
        {
          "output_type": "execute_result",
          "data": {
            "text/plain": [
              "array([48, 51, 54, 57])"
            ]
          },
          "metadata": {},
          "execution_count": 81
        }
      ]
    },
    {
      "cell_type": "code",
      "source": [
        "# statsic operation (mean/median/std/var)\n",
        "# also avilable for row and column by axis = 0\n",
        "np.mean(a2)\n",
        "\n",
        "# median\n",
        "np.median(a)\n",
        "\n",
        "# stdandard deviation\n",
        "np.std(a2)\n",
        "\n",
        "# variance\n",
        "np.std(a)"
      ],
      "metadata": {
        "colab": {
          "base_uri": "https://localhost:8080/"
        },
        "id": "KrQJDtuNYNiU",
        "outputId": "fbe8f91a-5943-484f-be27-514af58ae332"
      },
      "execution_count": 85,
      "outputs": [
        {
          "output_type": "execute_result",
          "data": {
            "text/plain": [
              "0.0"
            ]
          },
          "metadata": {},
          "execution_count": 85
        }
      ]
    },
    {
      "cell_type": "code",
      "source": [
        "# trignometric function ----> no use in data since\n",
        "\n",
        "np.sin(10)\n",
        "\n",
        "np.cos(12)"
      ],
      "metadata": {
        "colab": {
          "base_uri": "https://localhost:8080/"
        },
        "id": "G6XALIAmYgwZ",
        "outputId": "0e6649b6-a80d-4860-bd82-341014c71c70"
      },
      "execution_count": 88,
      "outputs": [
        {
          "output_type": "execute_result",
          "data": {
            "text/plain": [
              "0.8438539587324921"
            ]
          },
          "metadata": {},
          "execution_count": 88
        }
      ]
    },
    {
      "cell_type": "code",
      "source": [
        "# dot product ----> here 4 and 4 is the same it is condition of the dot product\n",
        "\n",
        "a3 = np.arange(12).reshape(3,4)\n",
        "a4 = np.arange(12,24).reshape(4,3)\n",
        "\n",
        "np.dot(a3,a4)"
      ],
      "metadata": {
        "colab": {
          "base_uri": "https://localhost:8080/"
        },
        "id": "JO-IwCjUZXHK",
        "outputId": "25eee3e9-d476-459d-a680-37f8d1445324"
      },
      "execution_count": 91,
      "outputs": [
        {
          "output_type": "execute_result",
          "data": {
            "text/plain": [
              "array([[114, 120, 126],\n",
              "       [378, 400, 422],\n",
              "       [642, 680, 718]])"
            ]
          },
          "metadata": {},
          "execution_count": 91
        }
      ]
    },
    {
      "cell_type": "code",
      "source": [
        "# log and expoents\n",
        "np.log(a2)\n"
      ],
      "metadata": {
        "colab": {
          "base_uri": "https://localhost:8080/"
        },
        "id": "Xo8PEHYaaEuV",
        "outputId": "a96f25fa-d2ed-4769-b495-532d44e0678e"
      },
      "execution_count": 93,
      "outputs": [
        {
          "output_type": "execute_result",
          "data": {
            "text/plain": [
              "array([[2.48490665, 2.56494936, 2.63905733, 2.7080502 ],\n",
              "       [2.77258872, 2.83321334, 2.89037176, 2.94443898],\n",
              "       [2.99573227, 3.04452244, 3.09104245, 3.13549422]])"
            ]
          },
          "metadata": {},
          "execution_count": 93
        }
      ]
    },
    {
      "cell_type": "markdown",
      "source": [],
      "metadata": {
        "id": "AXjQF3PJZVHV"
      }
    },
    {
      "cell_type": "code",
      "source": [
        "# expoents\n",
        "np.exp(a1)"
      ],
      "metadata": {
        "colab": {
          "base_uri": "https://localhost:8080/"
        },
        "id": "vFJ2CaOGboTS",
        "outputId": "20a8ca53-df94-4c69-a193-56c4e14f5715"
      },
      "execution_count": 94,
      "outputs": [
        {
          "output_type": "execute_result",
          "data": {
            "text/plain": [
              "array([[1.65163625e+38, 7.38905610e+00, 3.40427605e+29],\n",
              "       [6.66317622e+40, 3.49342711e+19, 1.17191424e+16],\n",
              "       [1.54553894e+25, 1.37338298e+32, 7.69478527e+23]])"
            ]
          },
          "metadata": {},
          "execution_count": 94
        }
      ]
    },
    {
      "cell_type": "code",
      "source": [
        "#round/floor/ceil\n",
        "np.round(np.random.random((2,3))*100)\n",
        "\n",
        "\n",
        "np.ceil(6.3)\n"
      ],
      "metadata": {
        "colab": {
          "base_uri": "https://localhost:8080/"
        },
        "id": "yEDM_WMabvfp",
        "outputId": "4a906c45-984b-40ea-ba62-1a2c870b97b5"
      },
      "execution_count": 100,
      "outputs": [
        {
          "output_type": "execute_result",
          "data": {
            "text/plain": [
              "7.0"
            ]
          },
          "metadata": {},
          "execution_count": 100
        }
      ]
    },
    {
      "cell_type": "markdown",
      "source": [
        "Indexing and slicing"
      ],
      "metadata": {
        "id": "qAUaCUfpchmr"
      }
    },
    {
      "cell_type": "code",
      "source": [
        "b1 = np.arange(10)\n",
        "b2 = np.arange(12).reshape(3,4)\n",
        "b3 = np.arange(8).reshape(2,2,2)\n",
        "b1"
      ],
      "metadata": {
        "colab": {
          "base_uri": "https://localhost:8080/"
        },
        "id": "FWzRR1VkdIjO",
        "outputId": "7b2278d4-c6f6-49c8-c42f-b1872187c397"
      },
      "execution_count": 103,
      "outputs": [
        {
          "output_type": "execute_result",
          "data": {
            "text/plain": [
              "array([0, 1, 2, 3, 4, 5, 6, 7, 8, 9])"
            ]
          },
          "metadata": {},
          "execution_count": 103
        }
      ]
    },
    {
      "cell_type": "code",
      "source": [
        "b1[-1]\n",
        "\n",
        "b1[6]\n",
        "\n",
        "b3"
      ],
      "metadata": {
        "colab": {
          "base_uri": "https://localhost:8080/"
        },
        "id": "pG7hQUOodqRa",
        "outputId": "c7199964-819d-4f59-dd38-c7ea29a4005d"
      },
      "execution_count": 112,
      "outputs": [
        {
          "output_type": "execute_result",
          "data": {
            "text/plain": [
              "array([[[0, 1],\n",
              "        [2, 3]],\n",
              "\n",
              "       [[4, 5],\n",
              "        [6, 7]]])"
            ]
          },
          "metadata": {},
          "execution_count": 112
        }
      ]
    },
    {
      "cell_type": "code",
      "source": [
        "b2[1,2] #---> [rowno,columno] ---> start with zeros"
      ],
      "metadata": {
        "colab": {
          "base_uri": "https://localhost:8080/"
        },
        "id": "V5TpTEE_eFCZ",
        "outputId": "6e5e2721-1d9f-418d-af36-f63964b763e1"
      },
      "execution_count": 108,
      "outputs": [
        {
          "output_type": "execute_result",
          "data": {
            "text/plain": [
              "6"
            ]
          },
          "metadata": {},
          "execution_count": 108
        }
      ]
    },
    {
      "cell_type": "code",
      "source": [
        "b3[1,0,1] # -----> first accss 2d and same with above (2d,rowno,columnno)"
      ],
      "metadata": {
        "colab": {
          "base_uri": "https://localhost:8080/"
        },
        "id": "LlR0gyIieg9L",
        "outputId": "558a0ab5-08cd-47a2-8330-474f7be91ad1"
      },
      "execution_count": 110,
      "outputs": [
        {
          "output_type": "execute_result",
          "data": {
            "text/plain": [
              "5"
            ]
          },
          "metadata": {},
          "execution_count": 110
        }
      ]
    },
    {
      "cell_type": "code",
      "source": [
        "# adding the value in it modifiying"
      ],
      "metadata": {
        "id": "ui6X8c9cf_ro"
      },
      "execution_count": null,
      "outputs": []
    },
    {
      "cell_type": "code",
      "source": [
        "b3[0,1,1] = 9\n",
        "b3"
      ],
      "metadata": {
        "colab": {
          "base_uri": "https://localhost:8080/"
        },
        "id": "HgGpEHrPfiNr",
        "outputId": "52e2cd3b-53ab-4f57-cd87-374b183ec035"
      },
      "execution_count": 115,
      "outputs": [
        {
          "output_type": "execute_result",
          "data": {
            "text/plain": [
              "array([[[0, 1],\n",
              "        [2, 9]],\n",
              "\n",
              "       [[4, 5],\n",
              "        [6, 7]]])"
            ]
          },
          "metadata": {},
          "execution_count": 115
        }
      ]
    },
    {
      "cell_type": "code",
      "source": [
        "# slicing ----> give the range of the items also - stride + ve stride\n",
        "b1"
      ],
      "metadata": {
        "colab": {
          "base_uri": "https://localhost:8080/"
        },
        "id": "k_7IMpWpftFR",
        "outputId": "5fd4cdd5-c9c1-47ea-9e31-476ce2f862f0"
      },
      "execution_count": 118,
      "outputs": [
        {
          "output_type": "execute_result",
          "data": {
            "text/plain": [
              "array([0, 1, 2, 3, 4, 5, 6, 7, 8, 9])"
            ]
          },
          "metadata": {},
          "execution_count": 118
        }
      ]
    },
    {
      "cell_type": "code",
      "source": [
        "b1[2:6:1]"
      ],
      "metadata": {
        "colab": {
          "base_uri": "https://localhost:8080/"
        },
        "id": "wknt9OUwgopT",
        "outputId": "3ebcb6f5-528a-4ac6-98a5-52b7b17f2bb8"
      },
      "execution_count": 122,
      "outputs": [
        {
          "output_type": "execute_result",
          "data": {
            "text/plain": [
              "array([2, 3, 4, 5])"
            ]
          },
          "metadata": {},
          "execution_count": 122
        }
      ]
    },
    {
      "cell_type": "code",
      "source": [
        "b2"
      ],
      "metadata": {
        "colab": {
          "base_uri": "https://localhost:8080/"
        },
        "id": "brDeXj7xhvEW",
        "outputId": "a29df4de-44f2-4dec-9b1e-1aee1fa7752e"
      },
      "execution_count": 123,
      "outputs": [
        {
          "output_type": "execute_result",
          "data": {
            "text/plain": [
              "array([[ 0,  1,  2,  3],\n",
              "       [ 4,  5,  6,  7],\n",
              "       [ 8,  9, 10, 11]])"
            ]
          },
          "metadata": {},
          "execution_count": 123
        }
      ]
    },
    {
      "cell_type": "code",
      "source": [
        "# slicing in 2d\n",
        "b2[0,:]"
      ],
      "metadata": {
        "colab": {
          "base_uri": "https://localhost:8080/"
        },
        "id": "bfl_VmhrhS8k",
        "outputId": "d66da12c-ecf2-4a34-f46c-c92ca4cdbc34"
      },
      "execution_count": 126,
      "outputs": [
        {
          "output_type": "execute_result",
          "data": {
            "text/plain": [
              "array([0, 1, 2, 3])"
            ]
          },
          "metadata": {},
          "execution_count": 126
        }
      ]
    },
    {
      "cell_type": "code",
      "source": [
        "b2[:,2]"
      ],
      "metadata": {
        "colab": {
          "base_uri": "https://localhost:8080/"
        },
        "id": "6cD2n_MCh7sO",
        "outputId": "531240d9-0ee8-4021-d2c3-133fdba37dfb"
      },
      "execution_count": 128,
      "outputs": [
        {
          "output_type": "execute_result",
          "data": {
            "text/plain": [
              "array([ 2,  6, 10])"
            ]
          },
          "metadata": {},
          "execution_count": 128
        }
      ]
    },
    {
      "cell_type": "code",
      "source": [
        "b2[1,::3]"
      ],
      "metadata": {
        "colab": {
          "base_uri": "https://localhost:8080/"
        },
        "id": "tdAtIAo-jED1",
        "outputId": "2f213115-6d37-4345-90a9-c4893ab6c011"
      },
      "execution_count": 132,
      "outputs": [
        {
          "output_type": "execute_result",
          "data": {
            "text/plain": [
              "array([4, 7])"
            ]
          },
          "metadata": {},
          "execution_count": 132
        }
      ]
    },
    {
      "cell_type": "code",
      "source": [
        "b2[::2,1::2]"
      ],
      "metadata": {
        "colab": {
          "base_uri": "https://localhost:8080/"
        },
        "id": "qXiBturAl5iv",
        "outputId": "9f2dbf05-50df-41b1-9dd5-8034661a8068"
      },
      "execution_count": 142,
      "outputs": [
        {
          "output_type": "execute_result",
          "data": {
            "text/plain": [
              "array([[ 1,  3],\n",
              "       [ 9, 11]])"
            ]
          },
          "metadata": {},
          "execution_count": 142
        }
      ]
    },
    {
      "cell_type": "code",
      "source": [
        "b4 = np.arange(27).reshape(3,3,3)\n",
        "b4"
      ],
      "metadata": {
        "colab": {
          "base_uri": "https://localhost:8080/"
        },
        "id": "afwPOYlkpXBT",
        "outputId": "dddffe08-fb46-4df5-d423-447a66a7510b"
      },
      "execution_count": 148,
      "outputs": [
        {
          "output_type": "execute_result",
          "data": {
            "text/plain": [
              "array([[[ 0,  1,  2],\n",
              "        [ 3,  4,  5],\n",
              "        [ 6,  7,  8]],\n",
              "\n",
              "       [[ 9, 10, 11],\n",
              "        [12, 13, 14],\n",
              "        [15, 16, 17]],\n",
              "\n",
              "       [[18, 19, 20],\n",
              "        [21, 22, 23],\n",
              "        [24, 25, 26]]])"
            ]
          },
          "metadata": {},
          "execution_count": 148
        }
      ]
    },
    {
      "cell_type": "code",
      "source": [
        "b4[1,:,1]"
      ],
      "metadata": {
        "colab": {
          "base_uri": "https://localhost:8080/"
        },
        "id": "VUflKiuHu5aw",
        "outputId": "c95a3fd2-fdba-4c81-a654-98b8ca1c491f"
      },
      "execution_count": 150,
      "outputs": [
        {
          "output_type": "execute_result",
          "data": {
            "text/plain": [
              "array([10, 13, 16])"
            ]
          },
          "metadata": {},
          "execution_count": 150
        }
      ]
    },
    {
      "cell_type": "code",
      "source": [
        "b4[2,1:,1:]"
      ],
      "metadata": {
        "colab": {
          "base_uri": "https://localhost:8080/"
        },
        "id": "VqIkO_hAvIF3",
        "outputId": "2e31b986-d6e2-4961-f0e6-f37ff9be398d"
      },
      "execution_count": 152,
      "outputs": [
        {
          "output_type": "execute_result",
          "data": {
            "text/plain": [
              "array([[22, 23],\n",
              "       [25, 26]])"
            ]
          },
          "metadata": {},
          "execution_count": 152
        }
      ]
    },
    {
      "cell_type": "code",
      "source": [
        "b4[1:,0,::2]"
      ],
      "metadata": {
        "colab": {
          "base_uri": "https://localhost:8080/"
        },
        "id": "rYQ9w3Wqvx3t",
        "outputId": "35c05f20-c4e5-4d61-984b-b8c2c0eda3ae"
      },
      "execution_count": 153,
      "outputs": [
        {
          "output_type": "execute_result",
          "data": {
            "text/plain": [
              "array([[ 9, 11],\n",
              "       [18, 20]])"
            ]
          },
          "metadata": {},
          "execution_count": 153
        }
      ]
    },
    {
      "cell_type": "code",
      "source": [
        "# iteration on the numpy array\n",
        "a1"
      ],
      "metadata": {
        "colab": {
          "base_uri": "https://localhost:8080/"
        },
        "id": "Tk5nPCZbxNqp",
        "outputId": "2bd68988-aa61-4100-800b-04024d8a5359"
      },
      "execution_count": 154,
      "outputs": [
        {
          "output_type": "execute_result",
          "data": {
            "text/plain": [
              "array([[88.,  2., 68.],\n",
              "       [94., 45., 37.],\n",
              "       [58., 74., 55.]])"
            ]
          },
          "metadata": {},
          "execution_count": 154
        }
      ]
    },
    {
      "cell_type": "markdown",
      "source": [],
      "metadata": {
        "id": "zmiqcAIdxXnv"
      }
    },
    {
      "cell_type": "code",
      "source": [
        "a2"
      ],
      "metadata": {
        "colab": {
          "base_uri": "https://localhost:8080/"
        },
        "id": "jrD6L9L20GwU",
        "outputId": "a44fa8df-3ee7-4a4a-de0b-9c4f54e11111"
      },
      "execution_count": 155,
      "outputs": [
        {
          "output_type": "execute_result",
          "data": {
            "text/plain": [
              "array([[12, 13, 14, 15],\n",
              "       [16, 17, 18, 19],\n",
              "       [20, 21, 22, 23]])"
            ]
          },
          "metadata": {},
          "execution_count": 155
        }
      ]
    },
    {
      "cell_type": "code",
      "source": [
        "for i in a2:\n",
        "  print(i)"
      ],
      "metadata": {
        "colab": {
          "base_uri": "https://localhost:8080/"
        },
        "id": "neMVk7nS0YD_",
        "outputId": "e088ca2a-250d-4a37-f9fd-9a1244264222"
      },
      "execution_count": 156,
      "outputs": [
        {
          "output_type": "stream",
          "name": "stdout",
          "text": [
            "[12 13 14 15]\n",
            "[16 17 18 19]\n",
            "[20 21 22 23]\n"
          ]
        }
      ]
    },
    {
      "cell_type": "code",
      "source": [
        "for i in b4:\n",
        "  print(i)"
      ],
      "metadata": {
        "colab": {
          "base_uri": "https://localhost:8080/"
        },
        "id": "XK_wiu4H0fFO",
        "outputId": "86e02741-8f1d-4ba0-fa4b-6707c495d12a"
      },
      "execution_count": 157,
      "outputs": [
        {
          "output_type": "stream",
          "name": "stdout",
          "text": [
            "[[0 1 2]\n",
            " [3 4 5]\n",
            " [6 7 8]]\n",
            "[[ 9 10 11]\n",
            " [12 13 14]\n",
            " [15 16 17]]\n",
            "[[18 19 20]\n",
            " [21 22 23]\n",
            " [24 25 26]]\n"
          ]
        }
      ]
    },
    {
      "cell_type": "code",
      "source": [
        "for i in np.nditer(b4):\n",
        "  print(i)"
      ],
      "metadata": {
        "colab": {
          "base_uri": "https://localhost:8080/"
        },
        "id": "OB3yxE1E1DH3",
        "outputId": "31653313-5b8a-4953-e453-3ba1910ab6eb"
      },
      "execution_count": 158,
      "outputs": [
        {
          "output_type": "stream",
          "name": "stdout",
          "text": [
            "0\n",
            "1\n",
            "2\n",
            "3\n",
            "4\n",
            "5\n",
            "6\n",
            "7\n",
            "8\n",
            "9\n",
            "10\n",
            "11\n",
            "12\n",
            "13\n",
            "14\n",
            "15\n",
            "16\n",
            "17\n",
            "18\n",
            "19\n",
            "20\n",
            "21\n",
            "22\n",
            "23\n",
            "24\n",
            "25\n",
            "26\n"
          ]
        }
      ]
    },
    {
      "cell_type": "markdown",
      "source": [
        "#Reshaping"
      ],
      "metadata": {
        "id": "J8msAWDL1YYg"
      }
    },
    {
      "cell_type": "code",
      "source": [
        "# In python result display temporary operation ----> and if result not display it is permant operation"
      ],
      "metadata": {
        "id": "c7nSnwxx2vY_"
      },
      "execution_count": null,
      "outputs": []
    },
    {
      "cell_type": "code",
      "source": [
        "# reshape\n",
        "a2"
      ],
      "metadata": {
        "colab": {
          "base_uri": "https://localhost:8080/"
        },
        "id": "2-ton5e-1KRG",
        "outputId": "4168f113-7ed4-4901-f858-299f230f0a14"
      },
      "execution_count": 159,
      "outputs": [
        {
          "output_type": "execute_result",
          "data": {
            "text/plain": [
              "array([[12, 13, 14, 15],\n",
              "       [16, 17, 18, 19],\n",
              "       [20, 21, 22, 23]])"
            ]
          },
          "metadata": {},
          "execution_count": 159
        }
      ]
    },
    {
      "cell_type": "code",
      "source": [
        "# Transpose ---> row convert to column and column convert to the row\n",
        "# two type\n",
        "np.transpose(a2)\n"
      ],
      "metadata": {
        "colab": {
          "base_uri": "https://localhost:8080/"
        },
        "id": "-_P-P7Hw1eVI",
        "outputId": "76d44afa-38ab-4512-f322-e5b091c871a9"
      },
      "execution_count": 160,
      "outputs": [
        {
          "output_type": "execute_result",
          "data": {
            "text/plain": [
              "array([[12, 16, 20],\n",
              "       [13, 17, 21],\n",
              "       [14, 18, 22],\n",
              "       [15, 19, 23]])"
            ]
          },
          "metadata": {},
          "execution_count": 160
        }
      ]
    },
    {
      "cell_type": "code",
      "source": [
        "#ravel ----> convert any dimension array to the single numpy array\n",
        "a2"
      ],
      "metadata": {
        "colab": {
          "base_uri": "https://localhost:8080/"
        },
        "id": "WaRi-Gl01hNo",
        "outputId": "09682da1-9d03-4175-c30f-701e84e48394"
      },
      "execution_count": 161,
      "outputs": [
        {
          "output_type": "execute_result",
          "data": {
            "text/plain": [
              "array([[12, 13, 14, 15],\n",
              "       [16, 17, 18, 19],\n",
              "       [20, 21, 22, 23]])"
            ]
          },
          "metadata": {},
          "execution_count": 161
        }
      ]
    },
    {
      "cell_type": "code",
      "source": [
        "# ravel\n",
        "np.ravel(a2)"
      ],
      "metadata": {
        "colab": {
          "base_uri": "https://localhost:8080/"
        },
        "id": "wgwRM8wx2TZA",
        "outputId": "0c2a6500-b396-46c7-fc09-04b7e46c7911"
      },
      "execution_count": 164,
      "outputs": [
        {
          "output_type": "execute_result",
          "data": {
            "text/plain": [
              "array([12, 13, 14, 15, 16, 17, 18, 19, 20, 21, 22, 23])"
            ]
          },
          "metadata": {},
          "execution_count": 164
        }
      ]
    },
    {
      "cell_type": "markdown",
      "source": [
        "stacking\n"
      ],
      "metadata": {
        "id": "eidsstSQ3e8q"
      }
    },
    {
      "cell_type": "code",
      "source": [
        "# horizontal staking ---> adding two or more numpy array and shape should be same ---> used for the stack data together\n",
        "\n",
        "s1 = np.arange(12).reshape(3,4)\n",
        "s2 = np.arange(12,24).reshape(3,4)\n",
        "\n",
        "\n",
        "z = np.hstack((s1,s2))\n",
        "print(z)\n"
      ],
      "metadata": {
        "colab": {
          "base_uri": "https://localhost:8080/"
        },
        "id": "NuwT3RCO3t_m",
        "outputId": "e161a84f-e8d3-4735-995c-8b295e25420e"
      },
      "execution_count": 167,
      "outputs": [
        {
          "output_type": "stream",
          "name": "stdout",
          "text": [
            "[[ 0  1  2  3 12 13 14 15]\n",
            " [ 4  5  6  7 16 17 18 19]\n",
            " [ 8  9 10 11 20 21 22 23]]\n"
          ]
        }
      ]
    },
    {
      "cell_type": "code",
      "source": [
        "# vstack staking you applying slicing and indexing on it\n",
        "p= np.vstack((s1,s2))\n",
        "p[:,2]"
      ],
      "metadata": {
        "colab": {
          "base_uri": "https://localhost:8080/"
        },
        "id": "Bw_G1hdd5VKn",
        "outputId": "e38f3c4b-11d1-4daa-8b67-2bc7a1b3d5ac"
      },
      "execution_count": 169,
      "outputs": [
        {
          "output_type": "execute_result",
          "data": {
            "text/plain": [
              "array([ 2,  6, 10, 14, 18, 22])"
            ]
          },
          "metadata": {},
          "execution_count": 169
        }
      ]
    },
    {
      "cell_type": "markdown",
      "source": [
        "Spliting"
      ],
      "metadata": {
        "id": "RanaRlQn6TVA"
      }
    },
    {
      "cell_type": "code",
      "source": [
        "# v split --->\n",
        "s2"
      ],
      "metadata": {
        "colab": {
          "base_uri": "https://localhost:8080/"
        },
        "id": "1S4yKcB450HX",
        "outputId": "e3db0c64-dcd1-4121-bd50-fb390de7e792"
      },
      "execution_count": 170,
      "outputs": [
        {
          "output_type": "execute_result",
          "data": {
            "text/plain": [
              "array([[12, 13, 14, 15],\n",
              "       [16, 17, 18, 19],\n",
              "       [20, 21, 22, 23]])"
            ]
          },
          "metadata": {},
          "execution_count": 170
        }
      ]
    },
    {
      "cell_type": "code",
      "source": [
        "np.vsplit(s2,3)"
      ],
      "metadata": {
        "colab": {
          "base_uri": "https://localhost:8080/"
        },
        "id": "tAnmMTAt7LAy",
        "outputId": "f9c1afff-ac8a-4152-e8e9-624a49500124"
      },
      "execution_count": 171,
      "outputs": [
        {
          "output_type": "execute_result",
          "data": {
            "text/plain": [
              "[array([[12, 13, 14, 15]]),\n",
              " array([[16, 17, 18, 19]]),\n",
              " array([[20, 21, 22, 23]])]"
            ]
          },
          "metadata": {},
          "execution_count": 171
        }
      ]
    },
    {
      "cell_type": "code",
      "source": [
        "# h split\n",
        "np.hsplit(s2,4)"
      ],
      "metadata": {
        "colab": {
          "base_uri": "https://localhost:8080/"
        },
        "id": "gR6J378b7XTz",
        "outputId": "9f5eb068-a69c-452c-f326-de133f3f76ad"
      },
      "execution_count": 172,
      "outputs": [
        {
          "output_type": "execute_result",
          "data": {
            "text/plain": [
              "[array([[12],\n",
              "        [16],\n",
              "        [20]]),\n",
              " array([[13],\n",
              "        [17],\n",
              "        [21]]),\n",
              " array([[14],\n",
              "        [18],\n",
              "        [22]]),\n",
              " array([[15],\n",
              "        [19],\n",
              "        [23]])]"
            ]
          },
          "metadata": {},
          "execution_count": 172
        }
      ]
    }
  ]
}